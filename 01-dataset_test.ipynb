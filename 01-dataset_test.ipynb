{
 "cells": [
  {
   "cell_type": "code",
   "execution_count": 1,
   "metadata": {},
   "outputs": [],
   "source": [
    "!pip install geemap --quiet --no-cache-dir"
   ]
  },
  {
   "cell_type": "code",
   "execution_count": 2,
   "metadata": {},
   "outputs": [],
   "source": [
    "import geemap\n",
    "import ee"
   ]
  },
  {
   "cell_type": "code",
   "execution_count": 3,
   "metadata": {},
   "outputs": [
    {
     "data": {
      "text/html": [
       "\n",
       "            <style>\n",
       "                .geemap-dark {\n",
       "                    --jp-widgets-color: white;\n",
       "                    --jp-widgets-label-color: white;\n",
       "                    --jp-ui-font-color1: white;\n",
       "                    --jp-layout-color2: #454545;\n",
       "                    background-color: #383838;\n",
       "                }\n",
       "\n",
       "                .geemap-dark .jupyter-button {\n",
       "                    --jp-layout-color3: #383838;\n",
       "                }\n",
       "\n",
       "                .geemap-colab {\n",
       "                    background-color: var(--colab-primary-surface-color, white);\n",
       "                }\n",
       "\n",
       "                .geemap-colab .jupyter-button {\n",
       "                    --jp-layout-color3: var(--colab-primary-surface-color, white);\n",
       "                }\n",
       "            </style>\n",
       "            "
      ],
      "text/plain": [
       "<IPython.core.display.HTML object>"
      ]
     },
     "metadata": {},
     "output_type": "display_data"
    }
   ],
   "source": [
    "ee.Initialize(project='ee-aprilianidia')"
   ]
  },
  {
   "cell_type": "markdown",
   "metadata": {},
   "source": [
    " extract methane data"
   ]
  },
  {
   "cell_type": "code",
   "execution_count": 4,
   "metadata": {},
   "outputs": [
    {
     "data": {
      "text/html": [
       "\n",
       "            <style>\n",
       "                .geemap-dark {\n",
       "                    --jp-widgets-color: white;\n",
       "                    --jp-widgets-label-color: white;\n",
       "                    --jp-ui-font-color1: white;\n",
       "                    --jp-layout-color2: #454545;\n",
       "                    background-color: #383838;\n",
       "                }\n",
       "\n",
       "                .geemap-dark .jupyter-button {\n",
       "                    --jp-layout-color3: #383838;\n",
       "                }\n",
       "\n",
       "                .geemap-colab {\n",
       "                    background-color: var(--colab-primary-surface-color, white);\n",
       "                }\n",
       "\n",
       "                .geemap-colab .jupyter-button {\n",
       "                    --jp-layout-color3: var(--colab-primary-surface-color, white);\n",
       "                }\n",
       "            </style>\n",
       "            "
      ],
      "text/plain": [
       "<IPython.core.display.HTML object>"
      ]
     },
     "metadata": {},
     "output_type": "display_data"
    },
    {
     "name": "stdout",
     "output_type": "stream",
     "text": [
      "dict_keys(['crs', 'lon', 'lat', 'total_fraction', 'total_area', 'boreal_area', 'temperate_area', 'tropical_subtropical_area'])\n"
     ]
    }
   ],
   "source": [
    "from netCDF4 import Dataset\n",
    "import numpy as np\n",
    "from pathlib import Path\n",
    "\n",
    "dir_path = Path.cwd()\n",
    "file_name = 'reservoir_area.nc'\n",
    "file_path = dir_path / file_name\n",
    "\n",
    "file_id = Dataset(file_path)\n",
    "\n",
    "print(file_id.variables.keys())"
   ]
  },
  {
   "cell_type": "code",
   "execution_count": 9,
   "metadata": {},
   "outputs": [
    {
     "name": "stdout",
     "output_type": "stream",
     "text": [
      "<class 'netCDF4._netCDF4.Dataset'>\n",
      "root group (NETCDF4_CLASSIC data model, file format HDF5):\n",
      "    comment: Contact for questions: Matthew Johnson (matthew.s.johnson@nasa.gov)\n",
      "    publisher_type: institution\n",
      "    publisher_institution: Oak Ridge National Laboratory Distributed Active Archive Center (ORNL DAAC)\n",
      "    publisher_url: daac.ornl.gov\n",
      "    publisher_email: uso@daac.ornl.gov\n",
      "    Conventions: CF-1.6\n",
      "    title: Daily rates of methane emissions from inland dam-reservoir systems\n",
      "    dimensions(sizes): day(365), nv(2), lon(1440), lat(720)\n",
      "    variables(dimensions): float32 climatology_bounds(day, nv), int32 crs(), float32 time(day), float64 lon(lon), float64 lat(lat), float32 emission_season(lat, lon), float32 total_emission_rate(day, lat, lon), float32 boreal_emission_rate(day, lat, lon), float32 temperate_emission_rate(day, lat, lon), float32 tropical_subtropical_emission_rate(day, lat, lon)\n",
      "    groups: \n"
     ]
    }
   ],
   "source": [
    "# plot multiple NetCDF data\n",
    "\n",
    "import numpy as np\n",
    "import glob\n",
    "from netCDF4 import Dataset\n",
    "import matplotlib.pyplot as plt\n",
    "from mpl_toolkits.axes_grid1 import make_axes_locatable\n",
    "\n",
    "data = Dataset(r'C:\\Users\\Aprilia Nidia\\testing\\1-Data\\1-GRIDmethane\\Global_Reservoirs_Methane_1918\\data\\reservoir_methane_emissions.nc')\n",
    "print(data)\n",
    "# print(data.variables.keys())\n",
    "\n",
    "lats = data.variables['lat'][:]\n",
    "lons = data.variables['lon'][:]\n",
    "met = data.variables['total_emission_rate'][:,:]\n",
    "\n",
    "# print('The maximum value is', np.max(met), data.variables['total_emission_rate'].units)\n",
    "# print('The minimum value is', np.min(met), data.variables['total_emission_rate'].units)"
   ]
  },
  {
   "cell_type": "code",
   "execution_count": 13,
   "metadata": {},
   "outputs": [
    {
     "name": "stderr",
     "output_type": "stream",
     "text": [
      "C:\\Users\\Aprilia Nidia\\AppData\\Local\\Temp\\ipykernel_24612\\3994233903.py:3: MatplotlibDeprecationWarning: The get_cmap function was deprecated in Matplotlib 3.7 and will be removed in 3.11. Use ``matplotlib.colormaps[name]`` or ``matplotlib.colormaps.get_cmap()`` or ``pyplot.get_cmap()`` instead.\n",
      "  cmmap = plt.cm.get_cmap(\"jet\")\n"
     ]
    },
    {
     "ename": "NameError",
     "evalue": "name 'k' is not defined",
     "output_type": "error",
     "traceback": [
      "\u001b[1;31m---------------------------------------------------------------------------\u001b[0m",
      "\u001b[1;31mNameError\u001b[0m                                 Traceback (most recent call last)",
      "Cell \u001b[1;32mIn[13], line 9\u001b[0m\n\u001b[0;32m      6\u001b[0m divider \u001b[38;5;241m=\u001b[39m make_axes_locatable(ax)\n\u001b[0;32m      7\u001b[0m cax \u001b[38;5;241m=\u001b[39m divider\u001b[38;5;241m.\u001b[39mappend_axes(\u001b[38;5;124m'\u001b[39m\u001b[38;5;124mright\u001b[39m\u001b[38;5;124m'\u001b[39m, size\u001b[38;5;241m=\u001b[39m\u001b[38;5;124m'\u001b[39m\u001b[38;5;124m5\u001b[39m\u001b[38;5;124m%\u001b[39m\u001b[38;5;124m'\u001b[39m, pad\u001b[38;5;241m=\u001b[39m\u001b[38;5;241m0.05\u001b[39m)\n\u001b[1;32m----> 9\u001b[0m im \u001b[38;5;241m=\u001b[39m ax\u001b[38;5;241m.\u001b[39mimshow(\u001b[43mk\u001b[49m, cmap\u001b[38;5;241m=\u001b[39mcmmap, vmin\u001b[38;5;241m=\u001b[39m\u001b[38;5;241m0\u001b[39m, vmax\u001b[38;5;241m=\u001b[39m\u001b[38;5;241m100\u001b[39m)\n\u001b[0;32m     11\u001b[0m fig\u001b[38;5;241m.\u001b[39mcolorbar(im, cax\u001b[38;5;241m=\u001b[39mcax, orientation\u001b[38;5;241m=\u001b[39m\u001b[38;5;124m'\u001b[39m\u001b[38;5;124mvertical\u001b[39m\u001b[38;5;124m'\u001b[39m, label\u001b[38;5;241m=\u001b[39m\u001b[38;5;124m'\u001b[39m\u001b[38;5;124mlabel\u001b[39m\u001b[38;5;124m'\u001b[39m)\n",
      "\u001b[1;31mNameError\u001b[0m: name 'k' is not defined"
     ]
    },
    {
     "data": {
      "image/png": "[encoded data removed]",
      "text/plain": [
       "<Figure size 640x480 with 2 Axes>"
      ]
     },
     "metadata": {},
     "output_type": "display_data"
    }
   ],
   "source": [
    "sic = data.variables['total_emission_rate'][:]\n",
    "\n",
    "cmmap = plt.cm.get_cmap(\"jet\")\n",
    "cmmap.set_bad('dimgrey', 1.)\n",
    "fig, ax = plt.subplots()\n",
    "divider = make_axes_locatable(ax)\n",
    "cax = divider.append_axes('right', size='5%', pad=0.05)\n",
    "\n",
    "im = ax.imshow(k, cmap=cmmap, vmin=0, vmax=100)\n",
    "\n",
    "fig.colorbar(im, cax=cax, orientation='vertical', label='label')"
   ]
  }
 ],
 "metadata": {
  "kernelspec": {
   "display_name": "test",
   "language": "python",
   "name": "python3"
  },
  "language_info": {
   "codemirror_mode": {
    "name": "ipython",
    "version": 3
   },
   "file_extension": ".py",
   "mimetype": "text/x-python",
   "name": "python",
   "nbconvert_exporter": "python",
   "pygments_lexer": "ipython3",
   "version": "3.12.5"
  }
 },
 "nbformat": 4,
 "nbformat_minor": 2
}
